{
 "cells": [
  {
   "cell_type": "code",
   "execution_count": 59,
   "id": "f2b9f093",
   "metadata": {},
   "outputs": [],
   "source": [
    "def swapList(newList):\n",
    "    size = len(newList)\n",
    "     \n",
    "    # Swapping\n",
    "    temp = newList[0]\n",
    "    newList[0] = newList[size - 1]\n",
    "    newList[size - 1] = temp\n",
    "     \n",
    "    return newList"
   ]
  },
  {
   "cell_type": "code",
   "execution_count": 61,
   "id": "0044b704",
   "metadata": {},
   "outputs": [
    {
     "data": {
      "text/plain": [
       "[20, 12, 14, 16, 18, 10]"
      ]
     },
     "execution_count": 61,
     "metadata": {},
     "output_type": "execute_result"
    }
   ],
   "source": [
    "swapList([10,12,14,16,18,20])"
   ]
  },
  {
   "cell_type": "code",
   "execution_count": 63,
   "id": "5acaf8d9",
   "metadata": {},
   "outputs": [],
   "source": [
    "def swapList2(newList):\n",
    "     \n",
    "    newList[0], newList[-1] = newList[-1], newList[0]\n",
    "    return newList"
   ]
  },
  {
   "cell_type": "code",
   "execution_count": 64,
   "id": "5a3d8f67",
   "metadata": {},
   "outputs": [
    {
     "data": {
      "text/plain": [
       "[20, 12, 14, 16, 18, 10]"
      ]
     },
     "execution_count": 64,
     "metadata": {},
     "output_type": "execute_result"
    }
   ],
   "source": [
    "swapList2([10,12,14,16,18,20])"
   ]
  },
  {
   "cell_type": "code",
   "execution_count": 69,
   "id": "d46f5c1b",
   "metadata": {},
   "outputs": [
    {
     "name": "stdout",
     "output_type": "stream",
     "text": [
      "[20, 12, 14, 16, 18, 10]\n"
     ]
    }
   ],
   "source": [
    "def swapList3(list):\n",
    "     \n",
    "    # Storing the first and last element\n",
    "    # as a pair in a tuple variable get\n",
    "    get = list[-1], list[0]\n",
    "     \n",
    "    # unpacking those elements\n",
    "    list[0], list[-1] = get\n",
    "     \n",
    "    return list\n",
    "     \n",
    "# Driver code\n",
    "newList = [10,12,14,16,18,20]\n",
    "print(swapList(newList))"
   ]
  },
  {
   "cell_type": "code",
   "execution_count": 71,
   "id": "260a66ee",
   "metadata": {},
   "outputs": [
    {
     "name": "stdout",
     "output_type": "stream",
     "text": [
      "[20, 12, 14, 16, 18, 10]\n"
     ]
    }
   ],
   "source": [
    "def swapList4(list):\n",
    "     \n",
    "    start, *middle, end = list\n",
    "    list = [end, *middle, start]\n",
    "     \n",
    "    return list\n",
    "     \n",
    "# Driver code\n",
    "newList = [10,12,14,16,18,20]\n",
    " \n",
    "print(swapList(newList))"
   ]
  },
  {
   "cell_type": "code",
   "execution_count": 72,
   "id": "a35bdb63",
   "metadata": {},
   "outputs": [],
   "source": [
    "def swapList5(list):\n",
    "     \n",
    "    first = list.pop(0)  \n",
    "    last = list.pop(-1)\n",
    "     \n",
    "    list.insert(0, last) \n",
    "    list.append(first)  \n",
    "     \n",
    "    return list"
   ]
  },
  {
   "cell_type": "code",
   "execution_count": 73,
   "id": "17079ec1",
   "metadata": {},
   "outputs": [
    {
     "data": {
      "text/plain": [
       "[20, 12, 14, 16, 18, 10]"
      ]
     },
     "execution_count": 73,
     "metadata": {},
     "output_type": "execute_result"
    }
   ],
   "source": [
    "swapList5([10,12,14,16,18,20])"
   ]
  },
  {
   "cell_type": "code",
   "execution_count": 74,
   "id": "3a396356",
   "metadata": {},
   "outputs": [],
   "source": [
    "def swap_first_last(lst):\n",
    "    # Check if list has at least 2 elements\n",
    "    if len(lst) >= 2:\n",
    "        # Swap the first and last elements using slicing\n",
    "        lst = lst[-1:] + lst[1:-1] + lst[:1]\n",
    "    return lst"
   ]
  },
  {
   "cell_type": "code",
   "execution_count": 75,
   "id": "bb7f0c03",
   "metadata": {},
   "outputs": [
    {
     "data": {
      "text/plain": [
       "[20, 12, 14, 16, 18, 10]"
      ]
     },
     "execution_count": 75,
     "metadata": {},
     "output_type": "execute_result"
    }
   ],
   "source": [
    "swap_first_last([10,12,14,16,18,20])"
   ]
  },
  {
   "cell_type": "code",
   "execution_count": null,
   "id": "6cee4af9",
   "metadata": {},
   "outputs": [],
   "source": []
  }
 ],
 "metadata": {
  "kernelspec": {
   "display_name": "Python 3 (ipykernel)",
   "language": "python",
   "name": "python3"
  },
  "language_info": {
   "codemirror_mode": {
    "name": "ipython",
    "version": 3
   },
   "file_extension": ".py",
   "mimetype": "text/x-python",
   "name": "python",
   "nbconvert_exporter": "python",
   "pygments_lexer": "ipython3",
   "version": "3.9.13"
  }
 },
 "nbformat": 4,
 "nbformat_minor": 5
}
